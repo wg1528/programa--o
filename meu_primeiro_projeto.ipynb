{
  "nbformat": 4,
  "nbformat_minor": 0,
  "metadata": {
    "colab": {
      "provenance": []
    },
    "kernelspec": {
      "name": "python3",
      "display_name": "Python 3"
    },
    "language_info": {
      "name": "python"
    }
  },
  "cells": [
    {
      "cell_type": "code",
      "source": [
        "# solicitar que o úsuario insira dois números\n"
      ],
      "metadata": {
        "id": "aYKqHemFR0lE"
      },
      "execution_count": null,
      "outputs": []
    },
    {
      "cell_type": "code",
      "source": [
        "num1 = input('digite o primeiro número: ')\n",
        "num2 = input('digite o segundo número:')"
      ],
      "metadata": {
        "colab": {
          "base_uri": "https://localhost:8080/"
        },
        "id": "xPZrFDFeSdOl",
        "outputId": "79b1f802-c217-4f93-bdec-71307ff355a3"
      },
      "execution_count": null,
      "outputs": [
        {
          "name": "stdout",
          "output_type": "stream",
          "text": [
            "digite o primeiro número: 10\n",
            "digite o segundo número:20\n"
          ]
        }
      ]
    },
    {
      "cell_type": "code",
      "source": [
        "# exibir os números inseridos\n",
        "print('num1', 'num2')"
      ],
      "metadata": {
        "colab": {
          "base_uri": "https://localhost:8080/"
        },
        "id": "1HC4aoRrS3zn",
        "outputId": "f65b0153-0003-49bc-9209-e836ade6a7a8"
      },
      "execution_count": null,
      "outputs": [
        {
          "output_type": "stream",
          "name": "stdout",
          "text": [
            "num1 num2\n"
          ]
        }
      ]
    },
    {
      "cell_type": "code",
      "source": [
        "# convertendo os números para inteiros"
      ],
      "metadata": {
        "id": "TqARfTELThaX"
      },
      "execution_count": null,
      "outputs": []
    },
    {
      "cell_type": "code",
      "source": [
        "num1 = int(num1)\n",
        "num2 = int(num2)\n",
        "soma = num1 + num2"
      ],
      "metadata": {
        "id": "H4L_C4YaU7dG"
      },
      "execution_count": null,
      "outputs": []
    },
    {
      "cell_type": "code",
      "source": [
        "#realizar operações matemáticas com os dois número\n",
        "print('a soma dos dois números é:',soma)"
      ],
      "metadata": {
        "colab": {
          "base_uri": "https://localhost:8080/"
        },
        "id": "728FV8CBVMAx",
        "outputId": "6848b335-fbd1-4e20-e56c-ba13dcd064e2"
      },
      "execution_count": null,
      "outputs": [
        {
          "output_type": "stream",
          "name": "stdout",
          "text": [
            "a soma dos dois números é: 30\n"
          ]
        }
      ]
    },
    {
      "cell_type": "code",
      "source": [
        "#quero insirir dois números"
      ],
      "metadata": {
        "id": "q5WJlKY1VvOf"
      },
      "execution_count": null,
      "outputs": []
    },
    {
      "cell_type": "code",
      "source": [
        "num1 = float(input('digite o primeiro número:'))\n",
        "num2 = float(input('digite o segundo número:'))"
      ],
      "metadata": {
        "colab": {
          "base_uri": "https://localhost:8080/"
        },
        "id": "3VgrP2Y6XsVP",
        "outputId": "21c51148-a9f6-4a15-aec3-ef4799156941"
      },
      "execution_count": null,
      "outputs": [
        {
          "name": "stdout",
          "output_type": "stream",
          "text": [
            "digite o primeiro número:10\n",
            "digite o segundo número:20\n"
          ]
        }
      ]
    },
    {
      "cell_type": "markdown",
      "source": [
        "**as quatro operações**\n",
        "\n"
      ],
      "metadata": {
        "id": "IaZO4C434rYI"
      }
    },
    {
      "cell_type": "code",
      "source": [
        "# operação da adição\n",
        "if 50 + 10:\n",
        "  print('condição verdadeira total é 60')\n",
        "else:\n",
        "  print('condição é falsa')"
      ],
      "metadata": {
        "colab": {
          "base_uri": "https://localhost:8080/"
        },
        "id": "47G9Azqe466F",
        "outputId": "cee6e91f-a3b7-42a1-c3c6-68b6f99ef90a"
      },
      "execution_count": null,
      "outputs": [
        {
          "output_type": "stream",
          "name": "stdout",
          "text": [
            "condição verdadeira total é 60\n"
          ]
        }
      ]
    },
    {
      "cell_type": "code",
      "source": [
        "# operação da subtração\n",
        "num1 = 50\n",
        "num2 = 10\n",
        "if num1 - num2:\n",
        "  print('condição verdadeira total é 40')\n",
        "else:\n",
        "  print('condição é falsa')"
      ],
      "metadata": {
        "colab": {
          "base_uri": "https://localhost:8080/"
        },
        "id": "WyUslVP45d3J",
        "outputId": "a7266012-e33d-409c-97c3-c0fa073b23d9"
      },
      "execution_count": null,
      "outputs": [
        {
          "output_type": "stream",
          "name": "stdout",
          "text": [
            "condição verdadeira total é 40\n"
          ]
        }
      ]
    },
    {
      "cell_type": "code",
      "source": [
        "# operação da multiplicação\n",
        "num1 = 50\n",
        "num2 = 10\n",
        "if num1 * num2:\n",
        "  print('condição verdadeira total é 500')\n",
        "elif num1 * num2:\n",
        "  print('a operação a soma e o total estão corretos')\n",
        "else:\n",
        "  print('condição é falsa')\n"
      ],
      "metadata": {
        "colab": {
          "base_uri": "https://localhost:8080/"
        },
        "id": "Fz1haSPQ-W37",
        "outputId": "a86e0c16-6d29-4d36-aad3-72aaafd09c01"
      },
      "execution_count": null,
      "outputs": [
        {
          "output_type": "stream",
          "name": "stdout",
          "text": [
            "condição verdadeira total é 500\n"
          ]
        }
      ]
    },
    {
      "cell_type": "code",
      "source": [
        "# a operação da divisão\n",
        "num1 = 50\n",
        "num2 = 10\n",
        "num3 = 2\n",
        "if (num1 / num2) and (num1 / num3):\n",
        "  print('condição verdadeira total é 25')\n",
        "elif num1 / num2:\n",
        "  print('a operação a soma e o total estão corretos')\n",
        "else:\n",
        "  print('condição é falsa')"
      ],
      "metadata": {
        "colab": {
          "base_uri": "https://localhost:8080/"
        },
        "id": "g5G4S7WoDas1",
        "outputId": "62cac354-aeda-4d8c-ba6f-df57aecc623e"
      },
      "execution_count": null,
      "outputs": [
        {
          "output_type": "stream",
          "name": "stdout",
          "text": [
            "condição verdadeira total é 25\n"
          ]
        }
      ]
    }
  ]
}